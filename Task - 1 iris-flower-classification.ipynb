{
 "cells": [
  {
   "cell_type": "markdown",
   "id": "22525426",
   "metadata": {},
   "source": [
    "# Name : Tejas Sinroja\n",
    "# Task 1 : iris flower classifiation "
   ]
  },
  {
   "cell_type": "markdown",
   "id": "7911dd50",
   "metadata": {
    "papermill": {
     "duration": 0.010791,
     "end_time": "2023-08-01T11:34:05.910624",
     "exception": false,
     "start_time": "2023-08-01T11:34:05.899833",
     "status": "completed"
    },
    "tags": []
   },
   "source": [
    "## Import Required Libraries"
   ]
  },
  {
   "cell_type": "code",
   "execution_count": 1,
   "id": "5155b87f",
   "metadata": {
    "execution": {
     "iopub.execute_input": "2023-08-01T11:34:05.935435Z",
     "iopub.status.busy": "2023-08-01T11:34:05.934979Z",
     "iopub.status.idle": "2023-08-01T11:34:07.745976Z",
     "shell.execute_reply": "2023-08-01T11:34:07.744911Z"
    },
    "metadata": {},
    "papermill": {
     "duration": 1.827068,
     "end_time": "2023-08-01T11:34:07.749012",
     "exception": false,
     "start_time": "2023-08-01T11:34:05.921944",
     "status": "completed"
    },
    "tags": []
   },
   "outputs": [],
   "source": [
    "import pandas as pd\n",
    "import numpy as np\n",
    "import matplotlib.pyplot as plt\n",
    "import seaborn as sns\n",
    "import warnings\n",
    "warnings.filterwarnings('ignore')"
   ]
  },
  {
   "cell_type": "markdown",
   "id": "98a11bca",
   "metadata": {
    "papermill": {
     "duration": 0.010796,
     "end_time": "2023-08-01T11:34:07.773163",
     "exception": false,
     "start_time": "2023-08-01T11:34:07.762367",
     "status": "completed"
    },
    "tags": []
   },
   "source": [
    "\n",
    "## Load the dataset"
   ]
  },
  {
   "cell_type": "code",
   "execution_count": 2,
   "id": "cf71e544",
   "metadata": {
    "execution": {
     "iopub.execute_input": "2023-08-01T11:34:07.798741Z",
     "iopub.status.busy": "2023-08-01T11:34:07.797434Z",
     "iopub.status.idle": "2023-08-01T11:34:07.850844Z",
     "shell.execute_reply": "2023-08-01T11:34:07.849118Z"
    },
    "metadata": {},
    "papermill": {
     "duration": 0.069632,
     "end_time": "2023-08-01T11:34:07.854135",
     "exception": false,
     "start_time": "2023-08-01T11:34:07.784503",
     "status": "completed"
    },
    "tags": []
   },
   "outputs": [
    {
     "data": {
      "text/html": [
       "<div>\n",
       "<style scoped>\n",
       "    .dataframe tbody tr th:only-of-type {\n",
       "        vertical-align: middle;\n",
       "    }\n",
       "\n",
       "    .dataframe tbody tr th {\n",
       "        vertical-align: top;\n",
       "    }\n",
       "\n",
       "    .dataframe thead th {\n",
       "        text-align: right;\n",
       "    }\n",
       "</style>\n",
       "<table border=\"1\" class=\"dataframe\">\n",
       "  <thead>\n",
       "    <tr style=\"text-align: right;\">\n",
       "      <th></th>\n",
       "      <th>Id</th>\n",
       "      <th>SepalLengthCm</th>\n",
       "      <th>SepalWidthCm</th>\n",
       "      <th>PetalLengthCm</th>\n",
       "      <th>PetalWidthCm</th>\n",
       "      <th>Species</th>\n",
       "    </tr>\n",
       "  </thead>\n",
       "  <tbody>\n",
       "    <tr>\n",
       "      <th>0</th>\n",
       "      <td>1</td>\n",
       "      <td>5.1</td>\n",
       "      <td>3.5</td>\n",
       "      <td>1.4</td>\n",
       "      <td>0.2</td>\n",
       "      <td>Iris-setosa</td>\n",
       "    </tr>\n",
       "    <tr>\n",
       "      <th>1</th>\n",
       "      <td>2</td>\n",
       "      <td>4.9</td>\n",
       "      <td>3.0</td>\n",
       "      <td>1.4</td>\n",
       "      <td>0.2</td>\n",
       "      <td>Iris-setosa</td>\n",
       "    </tr>\n",
       "    <tr>\n",
       "      <th>2</th>\n",
       "      <td>3</td>\n",
       "      <td>4.7</td>\n",
       "      <td>3.2</td>\n",
       "      <td>1.3</td>\n",
       "      <td>0.2</td>\n",
       "      <td>Iris-setosa</td>\n",
       "    </tr>\n",
       "    <tr>\n",
       "      <th>3</th>\n",
       "      <td>4</td>\n",
       "      <td>4.6</td>\n",
       "      <td>3.1</td>\n",
       "      <td>1.5</td>\n",
       "      <td>0.2</td>\n",
       "      <td>Iris-setosa</td>\n",
       "    </tr>\n",
       "    <tr>\n",
       "      <th>4</th>\n",
       "      <td>5</td>\n",
       "      <td>5.0</td>\n",
       "      <td>3.6</td>\n",
       "      <td>1.4</td>\n",
       "      <td>0.2</td>\n",
       "      <td>Iris-setosa</td>\n",
       "    </tr>\n",
       "  </tbody>\n",
       "</table>\n",
       "</div>"
      ],
      "text/plain": [
       "   Id  SepalLengthCm  SepalWidthCm  PetalLengthCm  PetalWidthCm      Species\n",
       "0   1            5.1           3.5            1.4           0.2  Iris-setosa\n",
       "1   2            4.9           3.0            1.4           0.2  Iris-setosa\n",
       "2   3            4.7           3.2            1.3           0.2  Iris-setosa\n",
       "3   4            4.6           3.1            1.5           0.2  Iris-setosa\n",
       "4   5            5.0           3.6            1.4           0.2  Iris-setosa"
      ]
     },
     "execution_count": 2,
     "metadata": {},
     "output_type": "execute_result"
    }
   ],
   "source": [
    "df = pd.read_csv('iris data.zip')\n",
    "df.head()"
   ]
  },
  {
   "cell_type": "code",
   "execution_count": 3,
   "id": "3a92796d",
   "metadata": {
    "execution": {
     "iopub.execute_input": "2023-08-01T11:34:07.882041Z",
     "iopub.status.busy": "2023-08-01T11:34:07.881566Z",
     "iopub.status.idle": "2023-08-01T11:34:07.907142Z",
     "shell.execute_reply": "2023-08-01T11:34:07.905553Z"
    },
    "metadata": {},
    "papermill": {
     "duration": 0.043691,
     "end_time": "2023-08-01T11:34:07.910399",
     "exception": false,
     "start_time": "2023-08-01T11:34:07.866708",
     "status": "completed"
    },
    "tags": []
   },
   "outputs": [
    {
     "data": {
      "text/html": [
       "<div>\n",
       "<style scoped>\n",
       "    .dataframe tbody tr th:only-of-type {\n",
       "        vertical-align: middle;\n",
       "    }\n",
       "\n",
       "    .dataframe tbody tr th {\n",
       "        vertical-align: top;\n",
       "    }\n",
       "\n",
       "    .dataframe thead th {\n",
       "        text-align: right;\n",
       "    }\n",
       "</style>\n",
       "<table border=\"1\" class=\"dataframe\">\n",
       "  <thead>\n",
       "    <tr style=\"text-align: right;\">\n",
       "      <th></th>\n",
       "      <th>SepalLengthCm</th>\n",
       "      <th>SepalWidthCm</th>\n",
       "      <th>PetalLengthCm</th>\n",
       "      <th>PetalWidthCm</th>\n",
       "      <th>Species</th>\n",
       "    </tr>\n",
       "  </thead>\n",
       "  <tbody>\n",
       "    <tr>\n",
       "      <th>0</th>\n",
       "      <td>5.1</td>\n",
       "      <td>3.5</td>\n",
       "      <td>1.4</td>\n",
       "      <td>0.2</td>\n",
       "      <td>Iris-setosa</td>\n",
       "    </tr>\n",
       "    <tr>\n",
       "      <th>1</th>\n",
       "      <td>4.9</td>\n",
       "      <td>3.0</td>\n",
       "      <td>1.4</td>\n",
       "      <td>0.2</td>\n",
       "      <td>Iris-setosa</td>\n",
       "    </tr>\n",
       "    <tr>\n",
       "      <th>2</th>\n",
       "      <td>4.7</td>\n",
       "      <td>3.2</td>\n",
       "      <td>1.3</td>\n",
       "      <td>0.2</td>\n",
       "      <td>Iris-setosa</td>\n",
       "    </tr>\n",
       "    <tr>\n",
       "      <th>3</th>\n",
       "      <td>4.6</td>\n",
       "      <td>3.1</td>\n",
       "      <td>1.5</td>\n",
       "      <td>0.2</td>\n",
       "      <td>Iris-setosa</td>\n",
       "    </tr>\n",
       "    <tr>\n",
       "      <th>4</th>\n",
       "      <td>5.0</td>\n",
       "      <td>3.6</td>\n",
       "      <td>1.4</td>\n",
       "      <td>0.2</td>\n",
       "      <td>Iris-setosa</td>\n",
       "    </tr>\n",
       "  </tbody>\n",
       "</table>\n",
       "</div>"
      ],
      "text/plain": [
       "   SepalLengthCm  SepalWidthCm  PetalLengthCm  PetalWidthCm      Species\n",
       "0            5.1           3.5            1.4           0.2  Iris-setosa\n",
       "1            4.9           3.0            1.4           0.2  Iris-setosa\n",
       "2            4.7           3.2            1.3           0.2  Iris-setosa\n",
       "3            4.6           3.1            1.5           0.2  Iris-setosa\n",
       "4            5.0           3.6            1.4           0.2  Iris-setosa"
      ]
     },
     "execution_count": 3,
     "metadata": {},
     "output_type": "execute_result"
    }
   ],
   "source": [
    "# Drop the 'Id' column as it is not required for analysis\n",
    "df = df.drop(columns=[\"Id\"])\n",
    "df.head()"
   ]
  },
  {
   "cell_type": "code",
   "execution_count": 4,
   "id": "ae84277f",
   "metadata": {
    "execution": {
     "iopub.execute_input": "2023-08-01T11:34:07.936619Z",
     "iopub.status.busy": "2023-08-01T11:34:07.936110Z",
     "iopub.status.idle": "2023-08-01T11:34:07.957084Z",
     "shell.execute_reply": "2023-08-01T11:34:07.955667Z"
    },
    "metadata": {},
    "papermill": {
     "duration": 0.037533,
     "end_time": "2023-08-01T11:34:07.960068",
     "exception": false,
     "start_time": "2023-08-01T11:34:07.922535",
     "status": "completed"
    },
    "tags": []
   },
   "outputs": [
    {
     "data": {
      "text/html": [
       "<div>\n",
       "<style scoped>\n",
       "    .dataframe tbody tr th:only-of-type {\n",
       "        vertical-align: middle;\n",
       "    }\n",
       "\n",
       "    .dataframe tbody tr th {\n",
       "        vertical-align: top;\n",
       "    }\n",
       "\n",
       "    .dataframe thead th {\n",
       "        text-align: right;\n",
       "    }\n",
       "</style>\n",
       "<table border=\"1\" class=\"dataframe\">\n",
       "  <thead>\n",
       "    <tr style=\"text-align: right;\">\n",
       "      <th></th>\n",
       "      <th>SepalLengthCm</th>\n",
       "      <th>SepalWidthCm</th>\n",
       "      <th>PetalLengthCm</th>\n",
       "      <th>PetalWidthCm</th>\n",
       "      <th>Species</th>\n",
       "    </tr>\n",
       "  </thead>\n",
       "  <tbody>\n",
       "    <tr>\n",
       "      <th>0</th>\n",
       "      <td>5.1</td>\n",
       "      <td>3.5</td>\n",
       "      <td>1.4</td>\n",
       "      <td>0.2</td>\n",
       "      <td>Iris-setosa</td>\n",
       "    </tr>\n",
       "    <tr>\n",
       "      <th>1</th>\n",
       "      <td>4.9</td>\n",
       "      <td>3.0</td>\n",
       "      <td>1.4</td>\n",
       "      <td>0.2</td>\n",
       "      <td>Iris-setosa</td>\n",
       "    </tr>\n",
       "    <tr>\n",
       "      <th>2</th>\n",
       "      <td>4.7</td>\n",
       "      <td>3.2</td>\n",
       "      <td>1.3</td>\n",
       "      <td>0.2</td>\n",
       "      <td>Iris-setosa</td>\n",
       "    </tr>\n",
       "    <tr>\n",
       "      <th>3</th>\n",
       "      <td>4.6</td>\n",
       "      <td>3.1</td>\n",
       "      <td>1.5</td>\n",
       "      <td>0.2</td>\n",
       "      <td>Iris-setosa</td>\n",
       "    </tr>\n",
       "    <tr>\n",
       "      <th>4</th>\n",
       "      <td>5.0</td>\n",
       "      <td>3.6</td>\n",
       "      <td>1.4</td>\n",
       "      <td>0.2</td>\n",
       "      <td>Iris-setosa</td>\n",
       "    </tr>\n",
       "    <tr>\n",
       "      <th>5</th>\n",
       "      <td>5.4</td>\n",
       "      <td>3.9</td>\n",
       "      <td>1.7</td>\n",
       "      <td>0.4</td>\n",
       "      <td>Iris-setosa</td>\n",
       "    </tr>\n",
       "    <tr>\n",
       "      <th>6</th>\n",
       "      <td>4.6</td>\n",
       "      <td>3.4</td>\n",
       "      <td>1.4</td>\n",
       "      <td>0.3</td>\n",
       "      <td>Iris-setosa</td>\n",
       "    </tr>\n",
       "    <tr>\n",
       "      <th>7</th>\n",
       "      <td>5.0</td>\n",
       "      <td>3.4</td>\n",
       "      <td>1.5</td>\n",
       "      <td>0.2</td>\n",
       "      <td>Iris-setosa</td>\n",
       "    </tr>\n",
       "    <tr>\n",
       "      <th>8</th>\n",
       "      <td>4.4</td>\n",
       "      <td>2.9</td>\n",
       "      <td>1.4</td>\n",
       "      <td>0.2</td>\n",
       "      <td>Iris-setosa</td>\n",
       "    </tr>\n",
       "    <tr>\n",
       "      <th>9</th>\n",
       "      <td>4.9</td>\n",
       "      <td>3.1</td>\n",
       "      <td>1.5</td>\n",
       "      <td>0.1</td>\n",
       "      <td>Iris-setosa</td>\n",
       "    </tr>\n",
       "  </tbody>\n",
       "</table>\n",
       "</div>"
      ],
      "text/plain": [
       "   SepalLengthCm  SepalWidthCm  PetalLengthCm  PetalWidthCm      Species\n",
       "0            5.1           3.5            1.4           0.2  Iris-setosa\n",
       "1            4.9           3.0            1.4           0.2  Iris-setosa\n",
       "2            4.7           3.2            1.3           0.2  Iris-setosa\n",
       "3            4.6           3.1            1.5           0.2  Iris-setosa\n",
       "4            5.0           3.6            1.4           0.2  Iris-setosa\n",
       "5            5.4           3.9            1.7           0.4  Iris-setosa\n",
       "6            4.6           3.4            1.4           0.3  Iris-setosa\n",
       "7            5.0           3.4            1.5           0.2  Iris-setosa\n",
       "8            4.4           2.9            1.4           0.2  Iris-setosa\n",
       "9            4.9           3.1            1.5           0.1  Iris-setosa"
      ]
     },
     "execution_count": 4,
     "metadata": {},
     "output_type": "execute_result"
    }
   ],
   "source": [
    "#Display the first 10 rows of the dataframe\n",
    "df.head(10)"
   ]
  },
  {
   "cell_type": "code",
   "execution_count": 5,
   "id": "4511529c",
   "metadata": {
    "execution": {
     "iopub.execute_input": "2023-08-01T11:34:07.987504Z",
     "iopub.status.busy": "2023-08-01T11:34:07.987002Z",
     "iopub.status.idle": "2023-08-01T11:34:08.019101Z",
     "shell.execute_reply": "2023-08-01T11:34:08.017758Z"
    },
    "metadata": {},
    "papermill": {
     "duration": 0.049098,
     "end_time": "2023-08-01T11:34:08.021863",
     "exception": false,
     "start_time": "2023-08-01T11:34:07.972765",
     "status": "completed"
    },
    "tags": []
   },
   "outputs": [
    {
     "data": {
      "text/html": [
       "<div>\n",
       "<style scoped>\n",
       "    .dataframe tbody tr th:only-of-type {\n",
       "        vertical-align: middle;\n",
       "    }\n",
       "\n",
       "    .dataframe tbody tr th {\n",
       "        vertical-align: top;\n",
       "    }\n",
       "\n",
       "    .dataframe thead th {\n",
       "        text-align: right;\n",
       "    }\n",
       "</style>\n",
       "<table border=\"1\" class=\"dataframe\">\n",
       "  <thead>\n",
       "    <tr style=\"text-align: right;\">\n",
       "      <th></th>\n",
       "      <th>SepalLengthCm</th>\n",
       "      <th>SepalWidthCm</th>\n",
       "      <th>PetalLengthCm</th>\n",
       "      <th>PetalWidthCm</th>\n",
       "    </tr>\n",
       "  </thead>\n",
       "  <tbody>\n",
       "    <tr>\n",
       "      <th>count</th>\n",
       "      <td>150.000000</td>\n",
       "      <td>150.000000</td>\n",
       "      <td>150.000000</td>\n",
       "      <td>150.000000</td>\n",
       "    </tr>\n",
       "    <tr>\n",
       "      <th>mean</th>\n",
       "      <td>5.843333</td>\n",
       "      <td>3.054000</td>\n",
       "      <td>3.758667</td>\n",
       "      <td>1.198667</td>\n",
       "    </tr>\n",
       "    <tr>\n",
       "      <th>std</th>\n",
       "      <td>0.828066</td>\n",
       "      <td>0.433594</td>\n",
       "      <td>1.764420</td>\n",
       "      <td>0.763161</td>\n",
       "    </tr>\n",
       "    <tr>\n",
       "      <th>min</th>\n",
       "      <td>4.300000</td>\n",
       "      <td>2.000000</td>\n",
       "      <td>1.000000</td>\n",
       "      <td>0.100000</td>\n",
       "    </tr>\n",
       "    <tr>\n",
       "      <th>25%</th>\n",
       "      <td>5.100000</td>\n",
       "      <td>2.800000</td>\n",
       "      <td>1.600000</td>\n",
       "      <td>0.300000</td>\n",
       "    </tr>\n",
       "    <tr>\n",
       "      <th>50%</th>\n",
       "      <td>5.800000</td>\n",
       "      <td>3.000000</td>\n",
       "      <td>4.350000</td>\n",
       "      <td>1.300000</td>\n",
       "    </tr>\n",
       "    <tr>\n",
       "      <th>75%</th>\n",
       "      <td>6.400000</td>\n",
       "      <td>3.300000</td>\n",
       "      <td>5.100000</td>\n",
       "      <td>1.800000</td>\n",
       "    </tr>\n",
       "    <tr>\n",
       "      <th>max</th>\n",
       "      <td>7.900000</td>\n",
       "      <td>4.400000</td>\n",
       "      <td>6.900000</td>\n",
       "      <td>2.500000</td>\n",
       "    </tr>\n",
       "  </tbody>\n",
       "</table>\n",
       "</div>"
      ],
      "text/plain": [
       "       SepalLengthCm  SepalWidthCm  PetalLengthCm  PetalWidthCm\n",
       "count     150.000000    150.000000     150.000000    150.000000\n",
       "mean        5.843333      3.054000       3.758667      1.198667\n",
       "std         0.828066      0.433594       1.764420      0.763161\n",
       "min         4.300000      2.000000       1.000000      0.100000\n",
       "25%         5.100000      2.800000       1.600000      0.300000\n",
       "50%         5.800000      3.000000       4.350000      1.300000\n",
       "75%         6.400000      3.300000       5.100000      1.800000\n",
       "max         7.900000      4.400000       6.900000      2.500000"
      ]
     },
     "execution_count": 5,
     "metadata": {},
     "output_type": "execute_result"
    }
   ],
   "source": [
    "# Display basic statistics about the data\n",
    "df.describe()"
   ]
  },
  {
   "cell_type": "code",
   "execution_count": 6,
   "id": "ea09aa66",
   "metadata": {
    "execution": {
     "iopub.execute_input": "2023-08-01T11:34:08.050769Z",
     "iopub.status.busy": "2023-08-01T11:34:08.050311Z",
     "iopub.status.idle": "2023-08-01T11:34:08.074011Z",
     "shell.execute_reply": "2023-08-01T11:34:08.073025Z"
    },
    "metadata": {},
    "papermill": {
     "duration": 0.042263,
     "end_time": "2023-08-01T11:34:08.077078",
     "exception": false,
     "start_time": "2023-08-01T11:34:08.034815",
     "status": "completed"
    },
    "tags": []
   },
   "outputs": [
    {
     "name": "stdout",
     "output_type": "stream",
     "text": [
      "<class 'pandas.core.frame.DataFrame'>\n",
      "RangeIndex: 150 entries, 0 to 149\n",
      "Data columns (total 5 columns):\n",
      " #   Column         Non-Null Count  Dtype  \n",
      "---  ------         --------------  -----  \n",
      " 0   SepalLengthCm  150 non-null    float64\n",
      " 1   SepalWidthCm   150 non-null    float64\n",
      " 2   PetalLengthCm  150 non-null    float64\n",
      " 3   PetalWidthCm   150 non-null    float64\n",
      " 4   Species        150 non-null    object \n",
      "dtypes: float64(4), object(1)\n",
      "memory usage: 6.0+ KB\n"
     ]
    }
   ],
   "source": [
    "# Display information about the datatype of each column and null values\n",
    "df.info()"
   ]
  },
  {
   "cell_type": "code",
   "execution_count": 7,
   "id": "3899f4af",
   "metadata": {
    "execution": {
     "iopub.execute_input": "2023-08-01T11:34:08.104194Z",
     "iopub.status.busy": "2023-08-01T11:34:08.103809Z",
     "iopub.status.idle": "2023-08-01T11:34:08.113210Z",
     "shell.execute_reply": "2023-08-01T11:34:08.111685Z"
    },
    "metadata": {},
    "papermill": {
     "duration": 0.025992,
     "end_time": "2023-08-01T11:34:08.115740",
     "exception": false,
     "start_time": "2023-08-01T11:34:08.089748",
     "status": "completed"
    },
    "tags": []
   },
   "outputs": [
    {
     "data": {
      "text/plain": [
       "Species\n",
       "Iris-setosa        50\n",
       "Iris-versicolor    50\n",
       "Iris-virginica     50\n",
       "Name: count, dtype: int64"
      ]
     },
     "execution_count": 7,
     "metadata": {},
     "output_type": "execute_result"
    }
   ],
   "source": [
    "# Display the number of samples for each class\n",
    "df['Species'].value_counts()"
   ]
  },
  {
   "cell_type": "markdown",
   "id": "37e01e3a",
   "metadata": {
    "papermill": {
     "duration": 0.012204,
     "end_time": "2023-08-01T11:34:08.140540",
     "exception": false,
     "start_time": "2023-08-01T11:34:08.128336",
     "status": "completed"
    },
    "tags": []
   },
   "source": [
    "## Preprocessing the Dataset"
   ]
  },
  {
   "cell_type": "code",
   "execution_count": 8,
   "id": "35c3b582",
   "metadata": {
    "execution": {
     "iopub.execute_input": "2023-08-01T11:34:08.167898Z",
     "iopub.status.busy": "2023-08-01T11:34:08.166966Z",
     "iopub.status.idle": "2023-08-01T11:34:08.384289Z",
     "shell.execute_reply": "2023-08-01T11:34:08.383336Z"
    },
    "metadata": {},
    "papermill": {
     "duration": 0.233952,
     "end_time": "2023-08-01T11:34:08.387014",
     "exception": false,
     "start_time": "2023-08-01T11:34:08.153062",
     "status": "completed"
    },
    "tags": []
   },
   "outputs": [
    {
     "data": {
      "text/plain": [
       "0      0\n",
       "1      0\n",
       "2      0\n",
       "3      0\n",
       "4      0\n",
       "      ..\n",
       "145    2\n",
       "146    2\n",
       "147    2\n",
       "148    2\n",
       "149    2\n",
       "Name: Species, Length: 150, dtype: int32"
      ]
     },
     "execution_count": 8,
     "metadata": {},
     "output_type": "execute_result"
    }
   ],
   "source": [
    "#Label encoding to convert class labels into numeric form\n",
    "from sklearn.preprocessing import LabelEncoder\n",
    "le = LabelEncoder()\n",
    "df['Species'] = le.fit_transform(df['Species'])\n",
    "df['Species']"
   ]
  },
  {
   "cell_type": "code",
   "execution_count": 9,
   "id": "4f241835",
   "metadata": {
    "execution": {
     "iopub.execute_input": "2023-08-01T11:34:08.415870Z",
     "iopub.status.busy": "2023-08-01T11:34:08.415437Z",
     "iopub.status.idle": "2023-08-01T11:34:08.434921Z",
     "shell.execute_reply": "2023-08-01T11:34:08.433924Z"
    },
    "metadata": {},
    "papermill": {
     "duration": 0.036916,
     "end_time": "2023-08-01T11:34:08.437378",
     "exception": false,
     "start_time": "2023-08-01T11:34:08.400462",
     "status": "completed"
    },
    "tags": []
   },
   "outputs": [
    {
     "data": {
      "text/html": [
       "<div>\n",
       "<style scoped>\n",
       "    .dataframe tbody tr th:only-of-type {\n",
       "        vertical-align: middle;\n",
       "    }\n",
       "\n",
       "    .dataframe tbody tr th {\n",
       "        vertical-align: top;\n",
       "    }\n",
       "\n",
       "    .dataframe thead th {\n",
       "        text-align: right;\n",
       "    }\n",
       "</style>\n",
       "<table border=\"1\" class=\"dataframe\">\n",
       "  <thead>\n",
       "    <tr style=\"text-align: right;\">\n",
       "      <th></th>\n",
       "      <th>SepalLengthCm</th>\n",
       "      <th>SepalWidthCm</th>\n",
       "      <th>PetalLengthCm</th>\n",
       "      <th>PetalWidthCm</th>\n",
       "      <th>Species</th>\n",
       "    </tr>\n",
       "  </thead>\n",
       "  <tbody>\n",
       "    <tr>\n",
       "      <th>0</th>\n",
       "      <td>5.1</td>\n",
       "      <td>3.5</td>\n",
       "      <td>1.4</td>\n",
       "      <td>0.2</td>\n",
       "      <td>0</td>\n",
       "    </tr>\n",
       "    <tr>\n",
       "      <th>1</th>\n",
       "      <td>4.9</td>\n",
       "      <td>3.0</td>\n",
       "      <td>1.4</td>\n",
       "      <td>0.2</td>\n",
       "      <td>0</td>\n",
       "    </tr>\n",
       "    <tr>\n",
       "      <th>2</th>\n",
       "      <td>4.7</td>\n",
       "      <td>3.2</td>\n",
       "      <td>1.3</td>\n",
       "      <td>0.2</td>\n",
       "      <td>0</td>\n",
       "    </tr>\n",
       "    <tr>\n",
       "      <th>3</th>\n",
       "      <td>4.6</td>\n",
       "      <td>3.1</td>\n",
       "      <td>1.5</td>\n",
       "      <td>0.2</td>\n",
       "      <td>0</td>\n",
       "    </tr>\n",
       "    <tr>\n",
       "      <th>4</th>\n",
       "      <td>5.0</td>\n",
       "      <td>3.6</td>\n",
       "      <td>1.4</td>\n",
       "      <td>0.2</td>\n",
       "      <td>0</td>\n",
       "    </tr>\n",
       "    <tr>\n",
       "      <th>...</th>\n",
       "      <td>...</td>\n",
       "      <td>...</td>\n",
       "      <td>...</td>\n",
       "      <td>...</td>\n",
       "      <td>...</td>\n",
       "    </tr>\n",
       "    <tr>\n",
       "      <th>145</th>\n",
       "      <td>6.7</td>\n",
       "      <td>3.0</td>\n",
       "      <td>5.2</td>\n",
       "      <td>2.3</td>\n",
       "      <td>2</td>\n",
       "    </tr>\n",
       "    <tr>\n",
       "      <th>146</th>\n",
       "      <td>6.3</td>\n",
       "      <td>2.5</td>\n",
       "      <td>5.0</td>\n",
       "      <td>1.9</td>\n",
       "      <td>2</td>\n",
       "    </tr>\n",
       "    <tr>\n",
       "      <th>147</th>\n",
       "      <td>6.5</td>\n",
       "      <td>3.0</td>\n",
       "      <td>5.2</td>\n",
       "      <td>2.0</td>\n",
       "      <td>2</td>\n",
       "    </tr>\n",
       "    <tr>\n",
       "      <th>148</th>\n",
       "      <td>6.2</td>\n",
       "      <td>3.4</td>\n",
       "      <td>5.4</td>\n",
       "      <td>2.3</td>\n",
       "      <td>2</td>\n",
       "    </tr>\n",
       "    <tr>\n",
       "      <th>149</th>\n",
       "      <td>5.9</td>\n",
       "      <td>3.0</td>\n",
       "      <td>5.1</td>\n",
       "      <td>1.8</td>\n",
       "      <td>2</td>\n",
       "    </tr>\n",
       "  </tbody>\n",
       "</table>\n",
       "<p>150 rows × 5 columns</p>\n",
       "</div>"
      ],
      "text/plain": [
       "     SepalLengthCm  SepalWidthCm  PetalLengthCm  PetalWidthCm  Species\n",
       "0              5.1           3.5            1.4           0.2        0\n",
       "1              4.9           3.0            1.4           0.2        0\n",
       "2              4.7           3.2            1.3           0.2        0\n",
       "3              4.6           3.1            1.5           0.2        0\n",
       "4              5.0           3.6            1.4           0.2        0\n",
       "..             ...           ...            ...           ...      ...\n",
       "145            6.7           3.0            5.2           2.3        2\n",
       "146            6.3           2.5            5.0           1.9        2\n",
       "147            6.5           3.0            5.2           2.0        2\n",
       "148            6.2           3.4            5.4           2.3        2\n",
       "149            5.9           3.0            5.1           1.8        2\n",
       "\n",
       "[150 rows x 5 columns]"
      ]
     },
     "execution_count": 9,
     "metadata": {},
     "output_type": "execute_result"
    }
   ],
   "source": [
    "df"
   ]
  },
  {
   "cell_type": "code",
   "execution_count": 10,
   "id": "136d2ea7",
   "metadata": {
    "execution": {
     "iopub.execute_input": "2023-08-01T11:34:08.467469Z",
     "iopub.status.busy": "2023-08-01T11:34:08.466438Z",
     "iopub.status.idle": "2023-08-01T11:34:08.477078Z",
     "shell.execute_reply": "2023-08-01T11:34:08.475951Z"
    },
    "metadata": {},
    "papermill": {
     "duration": 0.028892,
     "end_time": "2023-08-01T11:34:08.479991",
     "exception": false,
     "start_time": "2023-08-01T11:34:08.451099",
     "status": "completed"
    },
    "tags": []
   },
   "outputs": [
    {
     "data": {
      "text/plain": [
       "SepalLengthCm    0\n",
       "SepalWidthCm     0\n",
       "PetalLengthCm    0\n",
       "PetalWidthCm     0\n",
       "Species          0\n",
       "dtype: int64"
      ]
     },
     "execution_count": 10,
     "metadata": {},
     "output_type": "execute_result"
    }
   ],
   "source": [
    "# check for null values\n",
    "df.isnull().sum()"
   ]
  },
  {
   "cell_type": "markdown",
   "id": "b9dd4973",
   "metadata": {
    "papermill": {
     "duration": 0.014333,
     "end_time": "2023-08-01T11:34:08.508485",
     "exception": false,
     "start_time": "2023-08-01T11:34:08.494152",
     "status": "completed"
    },
    "tags": []
   },
   "source": [
    "### Exploratory Data Analysis (EDA)\n"
   ]
  },
  {
   "cell_type": "code",
   "execution_count": 11,
   "id": "c6900a9e",
   "metadata": {
    "execution": {
     "iopub.execute_input": "2023-08-01T11:34:08.539481Z",
     "iopub.status.busy": "2023-08-01T11:34:08.538958Z",
     "iopub.status.idle": "2023-08-01T11:34:08.938625Z",
     "shell.execute_reply": "2023-08-01T11:34:08.937197Z"
    },
    "metadata": {},
    "papermill": {
     "duration": 0.41887,
     "end_time": "2023-08-01T11:34:08.941767",
     "exception": false,
     "start_time": "2023-08-01T11:34:08.522897",
     "status": "completed"
    },
    "tags": []
   },
   "outputs": [
    {
     "data": {
      "text/plain": [
       "<Axes: >"
      ]
     },
     "execution_count": 11,
     "metadata": {},
     "output_type": "execute_result"
    },
    {
     "data": {
      "image/png": "[encoded data removed]",
      "text/plain": [
       "<Figure size 640x480 with 1 Axes>"
      ]
     },
     "metadata": {},
     "output_type": "display_data"
    }
   ],
   "source": [
    "# Plot histograms of each feature\n",
    "df['SepalLengthCm'].hist()"
   ]
  },
  {
   "cell_type": "code",
   "execution_count": 12,
   "id": "991f0932",
   "metadata": {
    "execution": {
     "iopub.execute_input": "2023-08-01T11:34:08.973843Z",
     "iopub.status.busy": "2023-08-01T11:34:08.973356Z",
     "iopub.status.idle": "2023-08-01T11:34:09.332731Z",
     "shell.execute_reply": "2023-08-01T11:34:09.331061Z"
    },
    "metadata": {},
    "papermill": {
     "duration": 0.378687,
     "end_time": "2023-08-01T11:34:09.335596",
     "exception": false,
     "start_time": "2023-08-01T11:34:08.956909",
     "status": "completed"
    },
    "tags": []
   },
   "outputs": [
    {
     "data": {
      "text/plain": [
       "<Axes: >"
      ]
     },
     "execution_count": 12,
     "metadata": {},
     "output_type": "execute_result"
    },
    {
     "data": {
      "image/png": "[encoded data removed]",
      "text/plain": [
       "<Figure size 640x480 with 1 Axes>"
      ]
     },
     "metadata": {},
     "output_type": "display_data"
    }
   ],
   "source": [
    "df['SepalWidthCm'].hist()\n"
   ]
  },
  {
   "cell_type": "code",
   "execution_count": 13,
   "id": "93c8f024",
   "metadata": {
    "execution": {
     "iopub.execute_input": "2023-08-01T11:34:09.367170Z",
     "iopub.status.busy": "2023-08-01T11:34:09.366660Z",
     "iopub.status.idle": "2023-08-01T11:34:09.720546Z",
     "shell.execute_reply": "2023-08-01T11:34:09.719224Z"
    },
    "metadata": {},
    "papermill": {
     "duration": 0.37407,
     "end_time": "2023-08-01T11:34:09.724414",
     "exception": false,
     "start_time": "2023-08-01T11:34:09.350344",
     "status": "completed"
    },
    "tags": []
   },
   "outputs": [
    {
     "data": {
      "text/plain": [
       "<Axes: >"
      ]
     },
     "execution_count": 13,
     "metadata": {},
     "output_type": "execute_result"
    },
    {
     "data": {
      "image/png": "[encoded data removed]",
      "text/plain": [
       "<Figure size 640x480 with 1 Axes>"
      ]
     },
     "metadata": {},
     "output_type": "display_data"
    }
   ],
   "source": [
    "df['PetalLengthCm'].hist()"
   ]
  },
  {
   "cell_type": "code",
   "execution_count": 14,
   "id": "841a505e",
   "metadata": {
    "execution": {
     "iopub.execute_input": "2023-08-01T11:34:09.760519Z",
     "iopub.status.busy": "2023-08-01T11:34:09.759882Z",
     "iopub.status.idle": "2023-08-01T11:34:10.088714Z",
     "shell.execute_reply": "2023-08-01T11:34:10.087819Z"
    },
    "metadata": {},
    "papermill": {
     "duration": 0.349674,
     "end_time": "2023-08-01T11:34:10.091381",
     "exception": false,
     "start_time": "2023-08-01T11:34:09.741707",
     "status": "completed"
    },
    "tags": []
   },
   "outputs": [
    {
     "data": {
      "text/plain": [
       "<Axes: >"
      ]
     },
     "execution_count": 14,
     "metadata": {},
     "output_type": "execute_result"
    },
    {
     "data": {
      "image/png": "[encoded data removed]",
      "text/plain": [
       "<Figure size 640x480 with 1 Axes>"
      ]
     },
     "metadata": {},
     "output_type": "display_data"
    }
   ],
   "source": [
    "df['PetalWidthCm'].hist()\n"
   ]
  },
  {
   "cell_type": "code",
   "execution_count": 15,
   "id": "7d54c97b",
   "metadata": {
    "execution": {
     "iopub.execute_input": "2023-08-01T11:34:10.126905Z",
     "iopub.status.busy": "2023-08-01T11:34:10.125929Z",
     "iopub.status.idle": "2023-08-01T11:34:10.552523Z",
     "shell.execute_reply": "2023-08-01T11:34:10.550845Z"
    },
    "metadata": {},
    "papermill": {
     "duration": 0.447822,
     "end_time": "2023-08-01T11:34:10.555759",
     "exception": false,
     "start_time": "2023-08-01T11:34:10.107937",
     "status": "completed"
    },
    "tags": []
   },
   "outputs": [
    {
     "data": {
      "text/plain": [
       "<Axes: >"
      ]
     },
     "execution_count": 15,
     "metadata": {},
     "output_type": "execute_result"
    },
    {
     "data": {
      "image/png": "[encoded data removed]",
      "text/plain": [
       "<Figure size 640x480 with 1 Axes>"
      ]
     },
     "metadata": {},
     "output_type": "display_data"
    }
   ],
   "source": [
    "#Plotting the histogram of all features toghether\n",
    "df['SepalLengthCm'].hist()\n",
    "df['SepalWidthCm'].hist()\n",
    "df['PetalLengthCm'].hist()\n",
    "df['PetalWidthCm'].hist()"
   ]
  },
  {
   "cell_type": "code",
   "execution_count": 16,
   "id": "d888270d",
   "metadata": {
    "execution": {
     "iopub.execute_input": "2023-08-01T11:34:10.591732Z",
     "iopub.status.busy": "2023-08-01T11:34:10.591271Z",
     "iopub.status.idle": "2023-08-01T11:34:10.596642Z",
     "shell.execute_reply": "2023-08-01T11:34:10.595831Z"
    },
    "metadata": {},
    "papermill": {
     "duration": 0.026364,
     "end_time": "2023-08-01T11:34:10.599212",
     "exception": false,
     "start_time": "2023-08-01T11:34:10.572848",
     "status": "completed"
    },
    "tags": []
   },
   "outputs": [],
   "source": [
    "# Plot scatterplots to visualize relationships between features\n",
    "colors = ['red', 'orange', 'blue']\n",
    "species = [0, 1, 2]"
   ]
  },
  {
   "cell_type": "code",
   "execution_count": 17,
   "id": "8aa370fe",
   "metadata": {
    "execution": {
     "iopub.execute_input": "2023-08-01T11:34:10.635479Z",
     "iopub.status.busy": "2023-08-01T11:34:10.634790Z",
     "iopub.status.idle": "2023-08-01T11:34:11.062460Z",
     "shell.execute_reply": "2023-08-01T11:34:11.061496Z"
    },
    "metadata": {},
    "papermill": {
     "duration": 0.452228,
     "end_time": "2023-08-01T11:34:11.068513",
     "exception": false,
     "start_time": "2023-08-01T11:34:10.616285",
     "status": "completed"
    },
    "tags": []
   },
   "outputs": [
    {
     "data": {
      "text/plain": [
       "<matplotlib.legend.Legend at 0x21872687850>"
      ]
     },
     "execution_count": 17,
     "metadata": {},
     "output_type": "execute_result"
    },
    {
     "data": {
      "image/png": "[encoded data removed]",
      "text/plain": [
       "<Figure size 640x480 with 1 Axes>"
      ]
     },
     "metadata": {},
     "output_type": "display_data"
    }
   ],
   "source": [
    "# Scatter plot for Sepal Length vs Sepal Width\n",
    "for i in range(3):\n",
    "    x = df[df['Species'] == species[i]]\n",
    "    plt.scatter(x['SepalLengthCm'], x['SepalWidthCm'], c=colors[i], label=species[i])\n",
    "plt.xlabel(\"Sepal Length\")\n",
    "plt.ylabel(\"Sepal Width\")\n",
    "plt.legend()"
   ]
  },
  {
   "cell_type": "code",
   "execution_count": 18,
   "id": "fec6cd25",
   "metadata": {
    "execution": {
     "iopub.execute_input": "2023-08-01T11:34:11.108172Z",
     "iopub.status.busy": "2023-08-01T11:34:11.106764Z",
     "iopub.status.idle": "2023-08-01T11:34:11.530914Z",
     "shell.execute_reply": "2023-08-01T11:34:11.529357Z"
    },
    "metadata": {},
    "papermill": {
     "duration": 0.446858,
     "end_time": "2023-08-01T11:34:11.534068",
     "exception": false,
     "start_time": "2023-08-01T11:34:11.087210",
     "status": "completed"
    },
    "tags": []
   },
   "outputs": [
    {
     "data": {
      "text/plain": [
       "<matplotlib.legend.Legend at 0x218724670d0>"
      ]
     },
     "execution_count": 18,
     "metadata": {},
     "output_type": "execute_result"
    },
    {
     "data": {
      "image/png": "[encoded data removed]",
      "text/plain": [
       "<Figure size 640x480 with 1 Axes>"
      ]
     },
     "metadata": {},
     "output_type": "display_data"
    }
   ],
   "source": [
    "# Scatter plot for Petal Length vs Petal Width \n",
    "for i in range(3):\n",
    "    x = df[df['Species'] == species[i]]\n",
    "    plt.scatter(x['PetalLengthCm'], x['PetalWidthCm'], c = colors[i], label=species[i])\n",
    "plt.xlabel(\"Petal Length\")\n",
    "plt.ylabel(\"Petal Width\")\n",
    "plt.legend()"
   ]
  },
  {
   "cell_type": "code",
   "execution_count": 19,
   "id": "f6b14686",
   "metadata": {
    "execution": {
     "iopub.execute_input": "2023-08-01T11:34:11.575455Z",
     "iopub.status.busy": "2023-08-01T11:34:11.575036Z",
     "iopub.status.idle": "2023-08-01T11:34:12.064896Z",
     "shell.execute_reply": "2023-08-01T11:34:12.063515Z"
    },
    "metadata": {},
    "papermill": {
     "duration": 0.51394,
     "end_time": "2023-08-01T11:34:12.067540",
     "exception": false,
     "start_time": "2023-08-01T11:34:11.553600",
     "status": "completed"
    },
    "tags": []
   },
   "outputs": [
    {
     "data": {
      "text/plain": [
       "<matplotlib.legend.Legend at 0x2187248f1d0>"
      ]
     },
     "execution_count": 19,
     "metadata": {},
     "output_type": "execute_result"
    },
    {
     "data": {
      "image/png": "[encoded data removed]",
      "text/plain": [
       "<Figure size 640x480 with 1 Axes>"
      ]
     },
     "metadata": {},
     "output_type": "display_data"
    }
   ],
   "source": [
    "# Scatter plot for Petal Length vs Sepal Length\n",
    "for i in range(3):\n",
    "    x = df[df['Species'] == species[i]]\n",
    "    plt.scatter(x['SepalLengthCm'], x['PetalLengthCm'], c = colors[i], label=species[i])\n",
    "plt.xlabel(\"Sepal Length\")\n",
    "plt.ylabel(\"Petal Length\")\n",
    "plt.legend()"
   ]
  },
  {
   "cell_type": "code",
   "execution_count": 20,
   "id": "3943ac9c",
   "metadata": {
    "execution": {
     "iopub.execute_input": "2023-08-01T11:34:12.107412Z",
     "iopub.status.busy": "2023-08-01T11:34:12.106893Z",
     "iopub.status.idle": "2023-08-01T11:34:12.574862Z",
     "shell.execute_reply": "2023-08-01T11:34:12.572796Z"
    },
    "metadata": {},
    "papermill": {
     "duration": 0.491013,
     "end_time": "2023-08-01T11:34:12.577702",
     "exception": false,
     "start_time": "2023-08-01T11:34:12.086689",
     "status": "completed"
    },
    "tags": []
   },
   "outputs": [
    {
     "data": {
      "text/plain": [
       "<matplotlib.legend.Legend at 0x218726df0d0>"
      ]
     },
     "execution_count": 20,
     "metadata": {},
     "output_type": "execute_result"
    },
    {
     "data": {
      "image/png": "[encoded data removed]",
      "text/plain": [
       "<Figure size 640x480 with 1 Axes>"
      ]
     },
     "metadata": {},
     "output_type": "display_data"
    }
   ],
   "source": [
    "# Scatter plot for Sepal Width vs Petal Width\n",
    "for i in range(3):\n",
    "    x = df[df['Species'] == species[i]]\n",
    "    plt.scatter(x['SepalWidthCm'], x['PetalWidthCm'], c = colors[i], label=species[i])\n",
    "plt.xlabel(\"Sepal Width\")\n",
    "plt.ylabel(\"Petal Width\")\n",
    "plt.legend()"
   ]
  },
  {
   "cell_type": "markdown",
   "id": "9ed994b2",
   "metadata": {
    "papermill": {
     "duration": 0.0188,
     "end_time": "2023-08-01T11:34:12.615520",
     "exception": false,
     "start_time": "2023-08-01T11:34:12.596720",
     "status": "completed"
    },
    "tags": []
   },
   "source": [
    "## Correlation Matrix"
   ]
  },
  {
   "cell_type": "markdown",
   "id": "3613d9a0",
   "metadata": {
    "papermill": {
     "duration": 0.019862,
     "end_time": "2023-08-01T11:34:12.654460",
     "exception": false,
     "start_time": "2023-08-01T11:34:12.634598",
     "status": "completed"
    },
    "tags": []
   },
   "source": [
    "A correlation matrix is a table showing correlation coefficients between variables. Each cell in the table shows the correlation between two variables. The value is in the range of -1 to 1. If two varibles have high correlation, we can neglect one variable from those two."
   ]
  },
  {
   "cell_type": "code",
   "execution_count": 21,
   "id": "81bfe48f",
   "metadata": {
    "execution": {
     "iopub.execute_input": "2023-08-01T11:34:12.695401Z",
     "iopub.status.busy": "2023-08-01T11:34:12.694856Z",
     "iopub.status.idle": "2023-08-01T11:34:12.713711Z",
     "shell.execute_reply": "2023-08-01T11:34:12.712381Z"
    },
    "metadata": {},
    "papermill": {
     "duration": 0.043042,
     "end_time": "2023-08-01T11:34:12.716539",
     "exception": false,
     "start_time": "2023-08-01T11:34:12.673497",
     "status": "completed"
    },
    "tags": []
   },
   "outputs": [
    {
     "data": {
      "text/html": [
       "<div>\n",
       "<style scoped>\n",
       "    .dataframe tbody tr th:only-of-type {\n",
       "        vertical-align: middle;\n",
       "    }\n",
       "\n",
       "    .dataframe tbody tr th {\n",
       "        vertical-align: top;\n",
       "    }\n",
       "\n",
       "    .dataframe thead th {\n",
       "        text-align: right;\n",
       "    }\n",
       "</style>\n",
       "<table border=\"1\" class=\"dataframe\">\n",
       "  <thead>\n",
       "    <tr style=\"text-align: right;\">\n",
       "      <th></th>\n",
       "      <th>SepalLengthCm</th>\n",
       "      <th>SepalWidthCm</th>\n",
       "      <th>PetalLengthCm</th>\n",
       "      <th>PetalWidthCm</th>\n",
       "      <th>Species</th>\n",
       "    </tr>\n",
       "  </thead>\n",
       "  <tbody>\n",
       "    <tr>\n",
       "      <th>SepalLengthCm</th>\n",
       "      <td>1.000000</td>\n",
       "      <td>-0.109369</td>\n",
       "      <td>0.871754</td>\n",
       "      <td>0.817954</td>\n",
       "      <td>0.782561</td>\n",
       "    </tr>\n",
       "    <tr>\n",
       "      <th>SepalWidthCm</th>\n",
       "      <td>-0.109369</td>\n",
       "      <td>1.000000</td>\n",
       "      <td>-0.420516</td>\n",
       "      <td>-0.356544</td>\n",
       "      <td>-0.419446</td>\n",
       "    </tr>\n",
       "    <tr>\n",
       "      <th>PetalLengthCm</th>\n",
       "      <td>0.871754</td>\n",
       "      <td>-0.420516</td>\n",
       "      <td>1.000000</td>\n",
       "      <td>0.962757</td>\n",
       "      <td>0.949043</td>\n",
       "    </tr>\n",
       "    <tr>\n",
       "      <th>PetalWidthCm</th>\n",
       "      <td>0.817954</td>\n",
       "      <td>-0.356544</td>\n",
       "      <td>0.962757</td>\n",
       "      <td>1.000000</td>\n",
       "      <td>0.956464</td>\n",
       "    </tr>\n",
       "    <tr>\n",
       "      <th>Species</th>\n",
       "      <td>0.782561</td>\n",
       "      <td>-0.419446</td>\n",
       "      <td>0.949043</td>\n",
       "      <td>0.956464</td>\n",
       "      <td>1.000000</td>\n",
       "    </tr>\n",
       "  </tbody>\n",
       "</table>\n",
       "</div>"
      ],
      "text/plain": [
       "               SepalLengthCm  SepalWidthCm  PetalLengthCm  PetalWidthCm  \\\n",
       "SepalLengthCm       1.000000     -0.109369       0.871754      0.817954   \n",
       "SepalWidthCm       -0.109369      1.000000      -0.420516     -0.356544   \n",
       "PetalLengthCm       0.871754     -0.420516       1.000000      0.962757   \n",
       "PetalWidthCm        0.817954     -0.356544       0.962757      1.000000   \n",
       "Species             0.782561     -0.419446       0.949043      0.956464   \n",
       "\n",
       "                Species  \n",
       "SepalLengthCm  0.782561  \n",
       "SepalWidthCm  -0.419446  \n",
       "PetalLengthCm  0.949043  \n",
       "PetalWidthCm   0.956464  \n",
       "Species        1.000000  "
      ]
     },
     "execution_count": 21,
     "metadata": {},
     "output_type": "execute_result"
    }
   ],
   "source": [
    "# Compute the correlation matrix \n",
    "df.corr()"
   ]
  },
  {
   "cell_type": "code",
   "execution_count": 22,
   "id": "b508a494",
   "metadata": {
    "execution": {
     "iopub.execute_input": "2023-08-01T11:34:12.759124Z",
     "iopub.status.busy": "2023-08-01T11:34:12.757834Z",
     "iopub.status.idle": "2023-08-01T11:34:13.429461Z",
     "shell.execute_reply": "2023-08-01T11:34:13.427795Z"
    },
    "metadata": {},
    "papermill": {
     "duration": 0.696252,
     "end_time": "2023-08-01T11:34:13.432276",
     "exception": false,
     "start_time": "2023-08-01T11:34:12.736024",
     "status": "completed"
    },
    "tags": []
   },
   "outputs": [
    {
     "data": {
      "text/plain": [
       "<Axes: >"
      ]
     },
     "execution_count": 22,
     "metadata": {},
     "output_type": "execute_result"
    },
    {
     "data": {
      "image/png": "[encoded data removed]",
      "text/plain": [
       "<Figure size 500x400 with 2 Axes>"
      ]
     },
     "metadata": {},
     "output_type": "display_data"
    }
   ],
   "source": [
    "# display the correlation matrix using a heatmap\n",
    "corr = df.corr()\n",
    "fig, ax = plt.subplots(figsize=(5, 4))\n",
    "sns.heatmap(corr, annot=True, ax=ax, cmap='coolwarm')"
   ]
  },
  {
   "cell_type": "markdown",
   "id": "22cda6a1",
   "metadata": {
    "papermill": {
     "duration": 0.019845,
     "end_time": "2023-08-01T11:34:13.472354",
     "exception": false,
     "start_time": "2023-08-01T11:34:13.452509",
     "status": "completed"
    },
    "tags": []
   },
   "source": [
    "## Model Training"
   ]
  },
  {
   "cell_type": "code",
   "execution_count": 23,
   "id": "d00d4e74",
   "metadata": {
    "execution": {
     "iopub.execute_input": "2023-08-01T11:34:13.517468Z",
     "iopub.status.busy": "2023-08-01T11:34:13.516973Z",
     "iopub.status.idle": "2023-08-01T11:34:13.663968Z",
     "shell.execute_reply": "2023-08-01T11:34:13.662834Z"
    },
    "metadata": {},
    "papermill": {
     "duration": 0.17253,
     "end_time": "2023-08-01T11:34:13.666709",
     "exception": false,
     "start_time": "2023-08-01T11:34:13.494179",
     "status": "completed"
    },
    "tags": []
   },
   "outputs": [],
   "source": [
    "# Split the dataset into training and testing sets\n",
    "from sklearn.model_selection import train_test_split\n",
    "X = df.drop(columns=['Species'])\n",
    "Y = df['Species']\n",
    "x_train, x_test, y_train, y_test = train_test_split(X, Y, test_size=0.40)"
   ]
  },
  {
   "cell_type": "code",
   "execution_count": 24,
   "id": "db85a49e",
   "metadata": {
    "execution": {
     "iopub.execute_input": "2023-08-01T11:34:13.711280Z",
     "iopub.status.busy": "2023-08-01T11:34:13.709939Z",
     "iopub.status.idle": "2023-08-01T11:34:13.877322Z",
     "shell.execute_reply": "2023-08-01T11:34:13.875616Z"
    },
    "metadata": {},
    "papermill": {
     "duration": 0.192219,
     "end_time": "2023-08-01T11:34:13.879628",
     "exception": false,
     "start_time": "2023-08-01T11:34:13.687409",
     "status": "completed"
    },
    "tags": []
   },
   "outputs": [
    {
     "name": "stdout",
     "output_type": "stream",
     "text": [
      "Accuracy (Logistic Regression):  95.0 %\n"
     ]
    }
   ],
   "source": [
    "# Logistic Regression Model\n",
    "from sklearn.linear_model import LogisticRegression\n",
    "model1 = LogisticRegression()\n",
    "model1.fit(x_train, y_train)\n",
    "print(\"Accuracy (Logistic Regression): \", model1.score(x_test, y_test) * 100, '%')"
   ]
  },
  {
   "cell_type": "code",
   "execution_count": 25,
   "id": "63d151a0",
   "metadata": {
    "execution": {
     "iopub.execute_input": "2023-08-01T11:34:13.923857Z",
     "iopub.status.busy": "2023-08-01T11:34:13.922832Z",
     "iopub.status.idle": "2023-08-01T11:34:14.087888Z",
     "shell.execute_reply": "2023-08-01T11:34:14.086346Z"
    },
    "metadata": {},
    "papermill": {
     "duration": 0.190626,
     "end_time": "2023-08-01T11:34:14.090951",
     "exception": false,
     "start_time": "2023-08-01T11:34:13.900325",
     "status": "completed"
    },
    "tags": []
   },
   "outputs": [
    {
     "name": "stdout",
     "output_type": "stream",
     "text": [
      "Accuracy (KNN):  93.33333333333333 %\n"
     ]
    }
   ],
   "source": [
    "# K-nearest Neighbours Model (KNN)\n",
    "from sklearn.neighbors import KNeighborsClassifier\n",
    "model2 = KNeighborsClassifier()\n",
    "model2.fit(x_train, y_train)\n",
    "print(\"Accuracy (KNN): \", model2.score(x_test, y_test) * 100, '%')"
   ]
  },
  {
   "cell_type": "code",
   "execution_count": 26,
   "id": "948bcc2a",
   "metadata": {
    "execution": {
     "iopub.execute_input": "2023-08-01T11:34:14.138283Z",
     "iopub.status.busy": "2023-08-01T11:34:14.137169Z",
     "iopub.status.idle": "2023-08-01T11:34:14.217948Z",
     "shell.execute_reply": "2023-08-01T11:34:14.215652Z"
    },
    "metadata": {},
    "papermill": {
     "duration": 0.107144,
     "end_time": "2023-08-01T11:34:14.220426",
     "exception": false,
     "start_time": "2023-08-01T11:34:14.113282",
     "status": "completed"
    },
    "scrolled": true,
    "tags": []
   },
   "outputs": [
    {
     "name": "stdout",
     "output_type": "stream",
     "text": [
      "Accuracy (Decision Tree):  95.0 %\n"
     ]
    }
   ],
   "source": [
    "# Decision Tree Model\n",
    "from sklearn.tree import DecisionTreeClassifier\n",
    "model3 = DecisionTreeClassifier()\n",
    "model3.fit(x_train, y_train)\n",
    "print(\"Accuracy (Decision Tree): \", model3.score(x_test, y_test) * 100, '%')"
   ]
  },
  {
   "cell_type": "markdown",
   "id": "a816205a",
   "metadata": {
    "papermill": {
     "duration": 0.02053,
     "end_time": "2023-08-01T11:34:14.262043",
     "exception": false,
     "start_time": "2023-08-01T11:34:14.241513",
     "status": "completed"
    },
    "tags": []
   },
   "source": [
    "## Confusion Matrix"
   ]
  },
  {
   "cell_type": "code",
   "execution_count": 27,
   "id": "b51c35c7",
   "metadata": {
    "execution": {
     "iopub.execute_input": "2023-08-01T11:34:14.306725Z",
     "iopub.status.busy": "2023-08-01T11:34:14.305183Z",
     "iopub.status.idle": "2023-08-01T11:34:14.311589Z",
     "shell.execute_reply": "2023-08-01T11:34:14.310307Z"
    },
    "metadata": {},
    "papermill": {
     "duration": 0.031176,
     "end_time": "2023-08-01T11:34:14.313881",
     "exception": false,
     "start_time": "2023-08-01T11:34:14.282705",
     "status": "completed"
    },
    "tags": []
   },
   "outputs": [],
   "source": [
    "from sklearn.metrics import confusion_matrix"
   ]
  },
  {
   "cell_type": "code",
   "execution_count": 28,
   "id": "cb158586",
   "metadata": {
    "execution": {
     "iopub.execute_input": "2023-08-01T11:34:14.358125Z",
     "iopub.status.busy": "2023-08-01T11:34:14.356777Z",
     "iopub.status.idle": "2023-08-01T11:34:14.371972Z",
     "shell.execute_reply": "2023-08-01T11:34:14.370832Z"
    },
    "metadata": {},
    "papermill": {
     "duration": 0.04023,
     "end_time": "2023-08-01T11:34:14.374671",
     "exception": false,
     "start_time": "2023-08-01T11:34:14.334441",
     "status": "completed"
    },
    "tags": []
   },
   "outputs": [],
   "source": [
    "y_pred1 = model1.predict(x_test)\n",
    "y_pred2 = model2.predict(x_test)\n",
    "y_pred3 = model3.predict(x_test)"
   ]
  },
  {
   "cell_type": "code",
   "execution_count": 29,
   "id": "4abba152",
   "metadata": {
    "execution": {
     "iopub.execute_input": "2023-08-01T11:34:14.418709Z",
     "iopub.status.busy": "2023-08-01T11:34:14.418169Z",
     "iopub.status.idle": "2023-08-01T11:34:14.432265Z",
     "shell.execute_reply": "2023-08-01T11:34:14.431230Z"
    },
    "metadata": {},
    "papermill": {
     "duration": 0.040118,
     "end_time": "2023-08-01T11:34:14.435532",
     "exception": false,
     "start_time": "2023-08-01T11:34:14.395414",
     "status": "completed"
    },
    "tags": []
   },
   "outputs": [],
   "source": [
    "conf_matrix1 = confusion_matrix(y_test, y_pred1)\n",
    "conf_matrix2 = confusion_matrix(y_test, y_pred2)\n",
    "conf_matrix3 = confusion_matrix(y_test, y_pred3)"
   ]
  },
  {
   "cell_type": "code",
   "execution_count": 30,
   "id": "e375f394",
   "metadata": {
    "execution": {
     "iopub.execute_input": "2023-08-01T11:34:14.482343Z",
     "iopub.status.busy": "2023-08-01T11:34:14.481278Z",
     "iopub.status.idle": "2023-08-01T11:34:14.812085Z",
     "shell.execute_reply": "2023-08-01T11:34:14.810916Z"
    },
    "metadata": {},
    "papermill": {
     "duration": 0.357001,
     "end_time": "2023-08-01T11:34:14.814737",
     "exception": false,
     "start_time": "2023-08-01T11:34:14.457736",
     "status": "completed"
    },
    "tags": []
   },
   "outputs": [
    {
     "data": {
      "image/png": "[encoded data removed]",
      "text/plain": [
       "<Figure size 800x600 with 2 Axes>"
      ]
     },
     "metadata": {},
     "output_type": "display_data"
    }
   ],
   "source": [
    "plt.figure(figsize=(8, 6))\n",
    "sns.heatmap(conf_matrix1, annot=True, fmt='d', cmap='Blues', xticklabels=np.unique(Y), yticklabels=np.unique(Y))\n",
    "plt.xlabel('Predicted Label')\n",
    "plt.ylabel('True Label')\n",
    "plt.title('Confusion Matrix of Logistic Regression')\n",
    "plt.show()"
   ]
  },
  {
   "cell_type": "code",
   "execution_count": 31,
   "id": "a83756ce",
   "metadata": {
    "execution": {
     "iopub.execute_input": "2023-08-01T11:34:14.862645Z",
     "iopub.status.busy": "2023-08-01T11:34:14.862209Z",
     "iopub.status.idle": "2023-08-01T11:34:15.191081Z",
     "shell.execute_reply": "2023-08-01T11:34:15.189732Z"
    },
    "metadata": {},
    "papermill": {
     "duration": 0.356731,
     "end_time": "2023-08-01T11:34:15.194127",
     "exception": false,
     "start_time": "2023-08-01T11:34:14.837396",
     "status": "completed"
    },
    "tags": []
   },
   "outputs": [
    {
     "data": {
      "image/png": "[encoded data removed]",
      "text/plain": [
       "<Figure size 800x600 with 2 Axes>"
      ]
     },
     "metadata": {},
     "output_type": "display_data"
    }
   ],
   "source": [
    "plt.figure(figsize=(8, 6))\n",
    "sns.heatmap(conf_matrix2, annot=True, fmt='d', cmap='Blues', xticklabels=np.unique(Y), yticklabels=np.unique(Y))\n",
    "plt.xlabel('Predicted Label')\n",
    "plt.ylabel('True Label')\n",
    "plt.title('Confusion Matrix of KNN')\n",
    "plt.show()"
   ]
  },
  {
   "cell_type": "code",
   "execution_count": 32,
   "id": "de96eca8",
   "metadata": {
    "execution": {
     "iopub.execute_input": "2023-08-01T11:34:15.243713Z",
     "iopub.status.busy": "2023-08-01T11:34:15.243144Z",
     "iopub.status.idle": "2023-08-01T11:34:15.607450Z",
     "shell.execute_reply": "2023-08-01T11:34:15.606457Z"
    },
    "metadata": {},
    "papermill": {
     "duration": 0.392189,
     "end_time": "2023-08-01T11:34:15.609661",
     "exception": false,
     "start_time": "2023-08-01T11:34:15.217472",
     "status": "completed"
    },
    "tags": []
   },
   "outputs": [
    {
     "data": {
      "image/png": "[encoded data removed]",
      "text/plain": [
       "<Figure size 800x600 with 2 Axes>"
      ]
     },
     "metadata": {},
     "output_type": "display_data"
    }
   ],
   "source": [
    "plt.figure(figsize=(8, 6))\n",
    "sns.heatmap(conf_matrix3, annot=True, fmt='d', cmap='Blues', xticklabels=np.unique(Y), yticklabels=np.unique(Y))\n",
    "plt.xlabel('Predicted Label')\n",
    "plt.ylabel('True Label')\n",
    "plt.title('Confusion Matrix of Decision Tree')\n",
    "plt.show()"
   ]
  },
  {
   "cell_type": "code",
   "execution_count": null,
   "id": "f7c07ba1",
   "metadata": {
    "papermill": {
     "duration": 0.022172,
     "end_time": "2023-08-01T11:34:15.654480",
     "exception": false,
     "start_time": "2023-08-01T11:34:15.632308",
     "status": "completed"
    },
    "tags": []
   },
   "outputs": [],
   "source": []
  },
  {
   "cell_type": "code",
   "execution_count": null,
   "id": "b13b55e4",
   "metadata": {
    "papermill": {
     "duration": 0.022281,
     "end_time": "2023-08-01T11:34:15.699269",
     "exception": false,
     "start_time": "2023-08-01T11:34:15.676988",
     "status": "completed"
    },
    "tags": []
   },
   "outputs": [],
   "source": []
  }
 ],
 "metadata": {
  "kernelspec": {
   "display_name": "Python 3",
   "language": "python",
   "name": "python3"
  },
  "language_info": {
   "codemirror_mode": {
    "name": "ipython",
    "version": 3
   },
   "file_extension": ".py",
   "mimetype": "text/x-python",
   "name": "python",
   "nbconvert_exporter": "python",
   "pygments_lexer": "ipython3",
   "version": "3.11.5"
  },
  "papermill": {
   "default_parameters": {},
   "duration": 25.900788,
   "end_time": "2023-08-01T11:34:17.348884",
   "environment_variables": {},
   "exception": null,
   "input_path": "__notebook__.ipynb",
   "output_path": "__notebook__.ipynb",
   "parameters": {},
   "start_time": "2023-08-01T11:33:51.448096",
   "version": "2.4.0"
  }
 },
 "nbformat": 4,
 "nbformat_minor": 5
}
